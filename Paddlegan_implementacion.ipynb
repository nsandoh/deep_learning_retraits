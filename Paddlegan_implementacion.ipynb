{
  "nbformat": 4,
  "nbformat_minor": 0,
  "metadata": {
    "colab": {
      "provenance": []
    },
    "kernelspec": {
      "name": "python3",
      "display_name": "Python 3"
    },
    "language_info": {
      "name": "python"
    },
    "gpuClass": "standard"
  },
  "cells": [
    {
      "cell_type": "code",
      "source": [
        "!python -m pip install paddlepaddle-gpu==2.1.0 -f https://mirror.baidu.com/pypi/simple\n",
        "!python3 -m pip install --upgrade ppgan"
      ],
      "metadata": {
        "id": "gOBlkRxXVt15"
      },
      "execution_count": null,
      "outputs": []
    },
    {
      "cell_type": "code",
      "source": [
        "!pip install cuda-python"
      ],
      "metadata": {
        "colab": {
          "base_uri": "https://localhost:8080/"
        },
        "id": "2ogd2d130as5",
        "outputId": "12c98861-08dd-4d9a-fdf8-62fa8bd571b7"
      },
      "execution_count": null,
      "outputs": [
        {
          "output_type": "stream",
          "name": "stdout",
          "text": [
            "Looking in indexes: https://pypi.org/simple, https://us-python.pkg.dev/colab-wheels/public/simple/\n",
            "Collecting cuda-python\n",
            "  Downloading cuda_python-12.0.0-cp38-cp38-manylinux_2_17_x86_64.manylinux2014_x86_64.whl (17.0 MB)\n",
            "\u001b[K     |████████████████████████████████| 17.0 MB 4.6 MB/s \n",
            "\u001b[?25hRequirement already satisfied: cython in /usr/local/lib/python3.8/dist-packages (from cuda-python) (0.29.32)\n",
            "Installing collected packages: cuda-python\n",
            "Successfully installed cuda-python-12.0.0\n"
          ]
        }
      ]
    },
    {
      "cell_type": "code",
      "source": [
        "!pip3 install torch==1.9.0+cu111 torchvision==0.10.0+cu111 torchaudio==0.9.0 -f https://download.pytorch.org/whl/torch_stable.html"
      ],
      "metadata": {
        "id": "dvDm1LWJ3xQE"
      },
      "execution_count": null,
      "outputs": []
    },
    {
      "cell_type": "code",
      "source": [
        "%ls\n",
        "%cd /content/drive/MyDrive/paddlegan/PaddleGAN-develop"
      ],
      "metadata": {
        "colab": {
          "base_uri": "https://localhost:8080/"
        },
        "id": "r4OmsvOhWYF5",
        "outputId": "c40b349d-470c-4cc2-c262-0f67687c9fe7"
      },
      "execution_count": null,
      "outputs": [
        {
          "output_type": "stream",
          "name": "stdout",
          "text": [
            "download_cyclegan_data.py  process_div2k_data.py   \u001b[0m\u001b[01;34mrealsr_preprocess\u001b[0m/\n",
            "download_pix2pix_data.py   \u001b[01;34mreal2expressionism\u001b[0m/     \u001b[01;34mvangogh2photo\u001b[0m/\n",
            "lsr2_preprocess.py         real2expressionism.zip\n",
            "/content/drive/MyDrive/paddlegan/PaddleGAN-develop\n"
          ]
        }
      ]
    },
    {
      "cell_type": "code",
      "source": [
        "!python -u tools/main.py --config-file configs/cyclegan_real2expressionism.yaml"
      ],
      "metadata": {
        "colab": {
          "base_uri": "https://localhost:8080/"
        },
        "id": "89RB1vNRXC-O",
        "outputId": "bd18f273-9128-4d5b-c1e1-7d0fe73cb2ce"
      },
      "execution_count": null,
      "outputs": [
        {
          "output_type": "stream",
          "name": "stdout",
          "text": [
            "[12/13 19:51:34] ppgan INFO: Configs: {'epochs': 10, 'output_dir': 'output_dir/cyclegan_cityscapes-2022-12-13-19-51', 'find_unused_parameters': True, 'model': {'name': 'CycleGANModel', 'generator': {'name': 'ResnetGenerator', 'output_nc': 3, 'n_blocks': 5, 'ngf': 64, 'use_dropout': False, 'norm_type': 'instance', 'input_nc': 3}, 'discriminator': {'name': 'NLayerDiscriminator', 'ndf': 64, 'n_layers': 2, 'norm_type': 'instance', 'input_nc': 3}, 'cycle_criterion': {'name': 'L1Loss'}, 'idt_criterion': {'name': 'L1Loss', 'loss_weight': 0.5}, 'gan_criterion': {'name': 'GANLoss', 'gan_mode': 'lsgan'}}, 'dataset': {'train': {'name': 'UnpairedDataset', 'dataroot_a': 'data/real2expressionism/trainA', 'dataroot_b': 'data/real2expressionism/trainB', 'num_workers': 8, 'batch_size': 8, 'is_train': True, 'max_size': 'inf', 'preprocess': [{'name': 'LoadImageFromFile', 'key': 'A'}, {'name': 'LoadImageFromFile', 'key': 'B'}, {'name': 'Transforms', 'input_keys': ['A', 'B'], 'pipeline': [{'name': 'Resize', 'size': [236, 236], 'interpolation': 'bicubic', 'keys': ['image', 'image']}, {'name': 'RandomCrop', 'size': [224, 224], 'keys': ['image', 'image']}, {'name': 'RandomHorizontalFlip', 'prob': 0.5, 'keys': ['image', 'image']}, {'name': 'Transpose', 'keys': ['image', 'image']}, {'name': 'Normalize', 'mean': [127.5, 127.5, 127.5], 'std': [127.5, 127.5, 127.5], 'keys': ['image', 'image']}]}]}, 'test': {'name': 'UnpairedDataset', 'dataroot_a': 'data/real2expressionism/testA', 'dataroot_b': 'data/real2expressionism/testA', 'num_workers': 8, 'batch_size': 8, 'max_size': 'inf', 'is_train': False, 'preprocess': [{'name': 'LoadImageFromFile', 'key': 'A'}, {'name': 'LoadImageFromFile', 'key': 'B'}, {'name': 'Transforms', 'input_keys': ['A', 'B'], 'pipeline': [{'name': 'Resize', 'size': [236, 236], 'interpolation': 'bicubic', 'keys': ['image', 'image']}, {'name': 'Transpose', 'keys': ['image', 'image']}, {'name': 'Normalize', 'mean': [127.5, 127.5, 127.5], 'std': [127.5, 127.5, 127.5], 'keys': ['image', 'image']}]}]}}, 'lr_scheduler': {'name': 'LinearDecay', 'learning_rate': 0.0002, 'start_epoch': 5, 'decay_epochs': 10, 'iters_per_epoch': 1}, 'optimizer': {'optimG': {'name': 'Adam', 'net_names': ['netG_A', 'netG_B'], 'beta1': 0.5}, 'optimD': {'name': 'Adam', 'net_names': ['netD_A', 'netD_B'], 'beta1': 0.5}}, 'log_config': {'interval': 100, 'visiual_interval': 500}, 'snapshot_config': {'interval': 5}, 'is_train': True, 'profiler_options': None, 'timestamp': '-2022-12-13-19-51'}\n",
            "W1213 19:51:34.251798   894 device_context.cc:404] Please NOTE: device: 0, GPU Compute Capability: 7.5, Driver API Version: 11.2, Runtime API Version: 10.2\n",
            "W1213 19:51:34.260298   894 device_context.cc:422] device: 0, cuDNN Version: 8.1.\n",
            "[12/13 19:55:22] ppgan.engine.trainer INFO: Epoch: 1/10, iter: 100/1000 lr: 2.000e-04 G_idt_A_loss: 0.914 G_idt_B_loss: 0.987 G_A_adv_loss: 0.273 G_B_adv_loss: 0.288 G_A_cycle_loss: 2.363 G_B_cycle_loss: 2.001 D_A_loss: 0.282 D_B_loss: 0.244 batch_cost: 2.24522 sec reader_cost: 0.00897 sec ips: 3.56313 images/s eta: 6:10:27\n",
            "[12/13 19:59:06] ppgan.engine.trainer INFO: Epoch: 1/10, iter: 200/1000 lr: 2.000e-04 G_idt_A_loss: 0.989 G_idt_B_loss: 0.680 G_A_adv_loss: 0.324 G_B_adv_loss: 0.277 G_A_cycle_loss: 1.508 G_B_cycle_loss: 2.077 D_A_loss: 0.258 D_B_loss: 0.254 batch_cost: 2.23607 sec reader_cost: 0.00024 sec ips: 3.57771 images/s eta: 6:05:13\n",
            "[12/13 20:02:50] ppgan.engine.trainer INFO: Epoch: 1/10, iter: 300/1000 lr: 2.000e-04 G_idt_A_loss: 1.269 G_idt_B_loss: 0.924 G_A_adv_loss: 0.384 G_B_adv_loss: 0.306 G_A_cycle_loss: 2.489 G_B_cycle_loss: 2.928 D_A_loss: 0.300 D_B_loss: 0.231 batch_cost: 2.23660 sec reader_cost: 0.00035 sec ips: 3.57686 images/s eta: 6:01:34\n",
            "[12/13 20:06:34] ppgan.engine.trainer INFO: Epoch: 1/10, iter: 400/1000 lr: 2.000e-04 G_idt_A_loss: 0.946 G_idt_B_loss: 0.586 G_A_adv_loss: 0.284 G_B_adv_loss: 0.310 G_A_cycle_loss: 1.332 G_B_cycle_loss: 1.973 D_A_loss: 0.238 D_B_loss: 0.229 batch_cost: 2.23479 sec reader_cost: 0.00032 sec ips: 3.57975 images/s eta: 5:57:34\n",
            "[12/13 20:10:18] ppgan.engine.trainer INFO: Epoch: 1/10, iter: 500/1000 lr: 2.000e-04 G_idt_A_loss: 0.906 G_idt_B_loss: 0.677 G_A_adv_loss: 0.289 G_B_adv_loss: 0.313 G_A_cycle_loss: 1.568 G_B_cycle_loss: 1.850 D_A_loss: 0.218 D_B_loss: 0.240 batch_cost: 2.23843 sec reader_cost: 0.00034 sec ips: 3.57394 images/s eta: 5:54:25\n",
            "[12/13 20:14:02] ppgan.engine.trainer INFO: Epoch: 1/10, iter: 600/1000 lr: 2.000e-04 G_idt_A_loss: 0.822 G_idt_B_loss: 0.725 G_A_adv_loss: 0.391 G_B_adv_loss: 0.333 G_A_cycle_loss: 1.588 G_B_cycle_loss: 1.726 D_A_loss: 0.216 D_B_loss: 0.268 batch_cost: 2.23307 sec reader_cost: 0.00037 sec ips: 3.58251 images/s eta: 5:49:50\n",
            "[12/13 20:17:46] ppgan.engine.trainer INFO: Epoch: 1/10, iter: 700/1000 lr: 2.000e-04 G_idt_A_loss: 0.918 G_idt_B_loss: 0.606 G_A_adv_loss: 0.360 G_B_adv_loss: 0.316 G_A_cycle_loss: 1.326 G_B_cycle_loss: 1.927 D_A_loss: 0.223 D_B_loss: 0.234 batch_cost: 2.23816 sec reader_cost: 0.00029 sec ips: 3.57436 images/s eta: 5:46:54\n",
            "[12/13 20:21:30] ppgan.engine.trainer INFO: Epoch: 1/10, iter: 800/1000 lr: 2.000e-04 G_idt_A_loss: 0.647 G_idt_B_loss: 0.520 G_A_adv_loss: 0.392 G_B_adv_loss: 0.293 G_A_cycle_loss: 1.227 G_B_cycle_loss: 1.401 D_A_loss: 0.270 D_B_loss: 0.215 batch_cost: 2.23349 sec reader_cost: 0.00080 sec ips: 3.58183 images/s eta: 5:42:28\n",
            "[12/13 20:25:14] ppgan.engine.trainer INFO: Epoch: 1/10, iter: 900/1000 lr: 2.000e-04 G_idt_A_loss: 0.806 G_idt_B_loss: 0.595 G_A_adv_loss: 0.343 G_B_adv_loss: 0.323 G_A_cycle_loss: 1.276 G_B_cycle_loss: 1.664 D_A_loss: 0.220 D_B_loss: 0.220 batch_cost: 2.23607 sec reader_cost: 0.00029 sec ips: 3.57771 images/s eta: 5:39:08\n",
            "[12/13 20:28:58] ppgan.engine.trainer INFO: Epoch: 1/10, iter: 0/1000 lr: 2.000e-04 G_idt_A_loss: 0.833 G_idt_B_loss: 0.544 G_A_adv_loss: 0.311 G_B_adv_loss: 0.290 G_A_cycle_loss: 1.157 G_B_cycle_loss: 1.756 D_A_loss: 0.212 D_B_loss: 0.239 batch_cost: 2.23512 sec reader_cost: 0.00026 sec ips: 3.57923 images/s eta: 5:35:16\n",
            "[12/13 20:32:43] ppgan.engine.trainer INFO: Epoch: 2/10, iter: 100/1000 lr: 2.000e-04 G_idt_A_loss: 0.761 G_idt_B_loss: 0.543 G_A_adv_loss: 0.387 G_B_adv_loss: 0.392 G_A_cycle_loss: 1.196 G_B_cycle_loss: 1.586 D_A_loss: 0.211 D_B_loss: 0.229 batch_cost: 2.24533 sec reader_cost: 0.00814 sec ips: 3.56296 images/s eta: 5:33:03\n",
            "[12/13 20:36:27] ppgan.engine.trainer INFO: Epoch: 2/10, iter: 200/1000 lr: 2.000e-04 G_idt_A_loss: 0.762 G_idt_B_loss: 0.635 G_A_adv_loss: 0.406 G_B_adv_loss: 0.358 G_A_cycle_loss: 1.304 G_B_cycle_loss: 1.698 D_A_loss: 0.213 D_B_loss: 0.240 batch_cost: 2.23578 sec reader_cost: 0.00043 sec ips: 3.57817 images/s eta: 5:27:54\n",
            "[12/13 20:40:12] ppgan.engine.trainer INFO: Epoch: 2/10, iter: 300/1000 lr: 2.000e-04 G_idt_A_loss: 0.877 G_idt_B_loss: 0.569 G_A_adv_loss: 0.360 G_B_adv_loss: 0.462 G_A_cycle_loss: 1.365 G_B_cycle_loss: 2.194 D_A_loss: 0.208 D_B_loss: 0.331 batch_cost: 2.23673 sec reader_cost: 0.00029 sec ips: 3.57665 images/s eta: 5:24:19\n",
            "[12/13 20:43:56] ppgan.engine.trainer INFO: Epoch: 2/10, iter: 400/1000 lr: 2.000e-04 G_idt_A_loss: 0.702 G_idt_B_loss: 0.497 G_A_adv_loss: 0.402 G_B_adv_loss: 0.357 G_A_cycle_loss: 0.984 G_B_cycle_loss: 1.518 D_A_loss: 0.239 D_B_loss: 0.246 batch_cost: 2.23749 sec reader_cost: 0.00038 sec ips: 3.57544 images/s eta: 5:20:42\n"
          ]
        }
      ]
    },
    {
      "cell_type": "code",
      "source": [],
      "metadata": {
        "id": "DQxGo82fFL29"
      },
      "execution_count": null,
      "outputs": []
    }
  ]
}